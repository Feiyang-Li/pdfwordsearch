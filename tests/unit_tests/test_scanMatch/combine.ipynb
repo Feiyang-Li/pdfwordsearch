{
 "cells": [
  {
   "cell_type": "code",
   "execution_count": 1,
   "id": "f00678a2",
   "metadata": {},
   "outputs": [],
   "source": [
    "from pdfwordsearch.scan.pdfScan import pdfInfoGet\n",
    "from pdfwordsearch.scan.pdfToapl import pdfToAPL"
   ]
  },
  {
   "cell_type": "code",
   "execution_count": 2,
   "id": "00719d7f",
   "metadata": {},
   "outputs": [],
   "source": [
    "pdf = pdfInfoGet(\"Phase 2 Prototype_  AI-Powered Mental Health Therapy Bot.pdf\")\n",
    "apl = pdfToAPL(pdf)"
   ]
  },
  {
   "cell_type": "code",
   "execution_count": 3,
   "id": "46890cfb",
   "metadata": {},
   "outputs": [],
   "source": [
    "from pdfwordsearch.match.matchPostList import searchPostingList\n",
    "from pdfwordsearch.match.wordMatch import wordSynonyms, simMatch, match"
   ]
  },
  {
   "cell_type": "code",
   "execution_count": 4,
   "id": "bc043c36",
   "metadata": {},
   "outputs": [
    {
     "data": {
      "text/plain": [
       "{'health': <generator object CompressedPostingsList.get_locations at 0x00000177815F7840>}"
      ]
     },
     "execution_count": 4,
     "metadata": {},
     "output_type": "execute_result"
    }
   ],
   "source": [
    "searchPostingList(\"health\", apl, CI_syn=0.3, CI_sim=0.8)"
   ]
  },
  {
   "cell_type": "code",
   "execution_count": 5,
   "id": "01761b6c",
   "metadata": {},
   "outputs": [
    {
     "data": {
      "text/plain": [
       "{'health': <generator object CompressedPostingsList.get_locations at 0x00000177815F7A40>}"
      ]
     },
     "execution_count": 5,
     "metadata": {},
     "output_type": "execute_result"
    }
   ],
   "source": [
    "searchPostingList(\"haalth\", apl, CI_syn=0.3, CI_sim=0.8)"
   ]
  },
  {
   "cell_type": "code",
   "execution_count": 6,
   "id": "e7ce8764",
   "metadata": {},
   "outputs": [
    {
     "data": {
      "text/plain": [
       "{'health': <generator object CompressedPostingsList.get_locations at 0x00000177815F7940>}"
      ]
     },
     "execution_count": 6,
     "metadata": {},
     "output_type": "execute_result"
    }
   ],
   "source": [
    "searchPostingList(\"wellness\", apl, CI_syn=0.3, CI_sim=0.8)"
   ]
  },
  {
   "cell_type": "code",
   "execution_count": 7,
   "id": "82d7e75e",
   "metadata": {},
   "outputs": [
    {
     "data": {
      "text/plain": [
       "['wellness']"
      ]
     },
     "execution_count": 7,
     "metadata": {},
     "output_type": "execute_result"
    }
   ],
   "source": [
    "wordSynonyms(\"health\", 0.1)"
   ]
  },
  {
   "cell_type": "code",
   "execution_count": 8,
   "id": "bbf7525c",
   "metadata": {},
   "outputs": [
    {
     "name": "stdout",
     "output_type": "stream",
     "text": [
      "0.8333333333333334\n"
     ]
    },
    {
     "data": {
      "text/plain": [
       "True"
      ]
     },
     "execution_count": 8,
     "metadata": {},
     "output_type": "execute_result"
    }
   ],
   "source": [
    "simMatch(\"health\", \"haalth\", test=True)"
   ]
  },
  {
   "cell_type": "code",
   "execution_count": 9,
   "id": "0b2e9734",
   "metadata": {},
   "outputs": [
    {
     "data": {
      "text/plain": [
       "True"
      ]
     },
     "execution_count": 9,
     "metadata": {},
     "output_type": "execute_result"
    }
   ],
   "source": [
    "match(\"haalth\", \"health\")"
   ]
  },
  {
   "cell_type": "code",
   "execution_count": 10,
   "id": "661394dc",
   "metadata": {},
   "outputs": [],
   "source": [
    "pdfl = pdfInfoGet(\"lovely.pdf\")\n",
    "apll = pdfToAPL(pdfl)"
   ]
  },
  {
   "cell_type": "code",
   "execution_count": 11,
   "id": "59f1f283",
   "metadata": {},
   "outputs": [
    {
     "data": {
      "text/plain": [
       "{'lovely': <generator object CompressedPostingsList.get_locations at 0x00000177815F5540>,\n",
       " 'adorable': <generator object CompressedPostingsList.get_locations at 0x0000017789A40340>,\n",
       " 'endearing': <generator object CompressedPostingsList.get_locations at 0x0000017789A40440>}"
      ]
     },
     "execution_count": 11,
     "metadata": {},
     "output_type": "execute_result"
    }
   ],
   "source": [
    "searchPostingList(\"lovely\", apll, CI_syn=0.1)"
   ]
  },
  {
   "cell_type": "code",
   "execution_count": 12,
   "id": "0877a8fa",
   "metadata": {},
   "outputs": [
    {
     "data": {
      "text/plain": [
       "['cover_girl', 'pin-up', 'adorable', 'endearing']"
      ]
     },
     "execution_count": 12,
     "metadata": {},
     "output_type": "execute_result"
    }
   ],
   "source": [
    "wordSynonyms(\"lovely\", 0.1)"
   ]
  },
  {
   "cell_type": "code",
   "execution_count": 13,
   "id": "b2f76974",
   "metadata": {},
   "outputs": [
    {
     "name": "stdout",
     "output_type": "stream",
     "text": [
      "what\n",
      "a\n",
      "lovely\n",
      "delightful\n",
      "adj\n",
      "superb\n",
      "groovy\n",
      "charming\n",
      "attractive\n",
      "beautiful\n",
      "gorgeous\n",
      "nice\n",
      "appearance\n",
      "look\n",
      "cute\n",
      "feature\n",
      "appealing\n",
      "excellent\n",
      "super\n",
      "wonderful\n",
      "f\n",
      "i\n",
      "ne\n",
      "great\n",
      "marvelous\n",
      "pretty\n",
      "exquisite\n",
      "ravishing\n",
      "job\n",
      "good\n",
      "handsome\n",
      "sweet\n",
      "looking\n",
      "pleasing\n",
      "stunning\n",
      "alluring\n",
      "charm\n",
      "fair\n",
      "enchanting\n",
      "adorable\n",
      "pleasant\n",
      "splendid\n",
      "magnif\n",
      "cent\n",
      "elegant\n",
      "engaging\n",
      "fascinating\n",
      "divine\n",
      "comely\n",
      "beauteous\n",
      "fetching\n",
      "grand\n",
      "sightly\n",
      "beauty\n",
      "enjoyable\n",
      "captivating\n",
      "agreeable\n",
      "noun\n",
      "bonny\n",
      "fabulous\n",
      "winning\n",
      "heavenly\n",
      "terrif\n",
      "c\n",
      "fantastic\n",
      "winsome\n",
      "taste\n",
      "endearing\n",
      "amazing\n",
      "bewitching\n",
      "lovable\n",
      "graceful\n",
      "foxy\n",
      "glorious\n",
      "awesome\n",
      "statuesque\n",
      "picturesque\n",
      "enticing\n",
      "delicious\n",
      "pleasurable\n",
      "dazzling\n",
      "pulchritudinous\n",
      "admirable\n",
      "glamorous\n",
      "gratifying\n",
      "darling\n",
      "sexy\n",
      "sublime\n",
      "prepossessing\n",
      "scenic\n",
      "knockout\n",
      "personable\n",
      "smell\n",
      "delectable\n",
      "satisfying\n",
      "aesthetic\n",
      "well\n",
      "formed\n",
      "stunner\n",
      "hot\n",
      "congenial\n",
      "cool\n",
      "slang\n",
      "brilliant\n",
      "friendly\n",
      "likable\n",
      "amiable\n",
      "swell\n",
      "sensational\n",
      "delight\n",
      "seductive\n",
      "kind\n",
      "innocent\n",
      "inviting\n",
      "marvellous\n",
      "feeling\n",
      "dear\n",
      "irresistible\n",
      "taking\n",
      "like\n",
      "person\n",
      "me\n"
     ]
    }
   ],
   "source": [
    "for i in apll.get_words():\n",
    "    print(i)"
   ]
  },
  {
   "cell_type": "code",
   "execution_count": 14,
   "id": "95bd75c9",
   "metadata": {},
   "outputs": [],
   "source": [
    "import re"
   ]
  },
  {
   "cell_type": "code",
   "execution_count": null,
   "id": "c6ea142b",
   "metadata": {},
   "outputs": [],
   "source": []
  }
 ],
 "metadata": {
  "kernelspec": {
   "display_name": ".venv",
   "language": "python",
   "name": "python3"
  },
  "language_info": {
   "codemirror_mode": {
    "name": "ipython",
    "version": 3
   },
   "file_extension": ".py",
   "mimetype": "text/x-python",
   "name": "python",
   "nbconvert_exporter": "python",
   "pygments_lexer": "ipython3",
   "version": "3.13.2"
  }
 },
 "nbformat": 4,
 "nbformat_minor": 5
}
